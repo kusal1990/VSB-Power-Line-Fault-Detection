{
  "cells": [
    {
      "cell_type": "code",
      "source": [
        "from google.colab import files\n",
        "files.upload()"
      ],
      "metadata": {
        "colab": {
          "resources": {
            "http://localhost:8080/nbextensions/google.colab/files.js": {
              "data": "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",
              "ok": true,
              "headers": [
                [
                  "content-type",
                  "application/javascript"
                ]
              ],
              "status": 200,
              "status_text": ""
            }
          },
          "base_uri": "https://localhost:8080/",
          "height": 91
        },
        "id": "Na95Dk2YtVnA",
        "outputId": "c55e3de0-6dd2-4e16-fc0f-06350242d94e"
      },
      "execution_count": 23,
      "outputs": [
        {
          "output_type": "display_data",
          "data": {
            "text/plain": [
              "<IPython.core.display.HTML object>"
            ],
            "text/html": [
              "\n",
              "     <input type=\"file\" id=\"files-5e0be256-d75a-461e-a178-4418873c2b19\" name=\"files[]\" multiple disabled\n",
              "        style=\"border:none\" />\n",
              "     <output id=\"result-5e0be256-d75a-461e-a178-4418873c2b19\">\n",
              "      Upload widget is only available when the cell has been executed in the\n",
              "      current browser session. Please rerun this cell to enable.\n",
              "      </output>\n",
              "      <script src=\"/nbextensions/google.colab/files.js\"></script> "
            ]
          },
          "metadata": {}
        },
        {
          "output_type": "stream",
          "name": "stdout",
          "text": [
            "Saving kaggle.json to kaggle.json\n"
          ]
        },
        {
          "output_type": "execute_result",
          "data": {
            "text/plain": [
              "{'kaggle.json': b'{\"username\":\"kusalbera\",\"key\":\"53ccbf04507c36fc0fcded36e130e70c\"}'}"
            ]
          },
          "metadata": {},
          "execution_count": 23
        }
      ]
    },
    {
      "cell_type": "code",
      "source": [
        "!ls -lha kaggle.json\n"
      ],
      "metadata": {
        "colab": {
          "base_uri": "https://localhost:8080/"
        },
        "id": "CDgc2xf1tVkS",
        "outputId": "cfd8606a-7cb8-4600-f9ff-353c629d5bcb"
      },
      "execution_count": 24,
      "outputs": [
        {
          "output_type": "stream",
          "name": "stdout",
          "text": [
            "-rw-r--r-- 1 root root 65 May 30 06:45 kaggle.json\n"
          ]
        }
      ]
    },
    {
      "cell_type": "code",
      "source": [
        "!pip install -q kaggle"
      ],
      "metadata": {
        "id": "Mb9KPEyMtVgv"
      },
      "execution_count": 25,
      "outputs": []
    },
    {
      "cell_type": "code",
      "source": [
        "!mkdir -p ~/.kaggle\n",
        "!cp kaggle.json ~/.kaggle/\n"
      ],
      "metadata": {
        "id": "ImTdz5IItVc6"
      },
      "execution_count": 26,
      "outputs": []
    },
    {
      "cell_type": "code",
      "source": [
        "!chmod 600 ~/.kaggle/kaggle.json"
      ],
      "metadata": {
        "id": "43E6rebXtVaG"
      },
      "execution_count": 27,
      "outputs": []
    },
    {
      "cell_type": "code",
      "source": [
        "!kaggle competitions download -c vsb-power-line-fault-detection"
      ],
      "metadata": {
        "colab": {
          "base_uri": "https://localhost:8080/"
        },
        "id": "-jf_PmP_tVUq",
        "outputId": "4b4a4507-5238-4fba-de7a-59aa71c9c5fd"
      },
      "execution_count": 29,
      "outputs": [
        {
          "output_type": "stream",
          "name": "stdout",
          "text": [
            "Downloading vsb-power-line-fault-detection.zip to /content\n",
            "100% 9.99G/10.0G [03:41<00:00, 56.9MB/s]\n",
            "100% 10.0G/10.0G [03:41<00:00, 48.5MB/s]\n"
          ]
        }
      ]
    },
    {
      "cell_type": "code",
      "source": [
        "!unzip /content/vsb-power-line-fault-detection.zip"
      ],
      "metadata": {
        "colab": {
          "base_uri": "https://localhost:8080/"
        },
        "id": "fQ_a_VFrtVRT",
        "outputId": "0030388c-f8ca-466a-8f1a-d36a29e50bd6"
      },
      "execution_count": 30,
      "outputs": [
        {
          "output_type": "stream",
          "name": "stdout",
          "text": [
            "Archive:  /content/vsb-power-line-fault-detection.zip\n",
            "  inflating: metadata_test.csv       \n",
            "  inflating: metadata_train.csv      \n",
            "  inflating: sample_submission.csv   \n",
            "  inflating: test.parquet            \n",
            "  inflating: train.parquet           \n"
          ]
        }
      ]
    },
    {
      "cell_type": "code",
      "source": [
        "from sklearn.metrics import matthews_corrcoef"
      ],
      "metadata": {
        "id": "czNaVKnptVFF"
      },
      "execution_count": 109,
      "outputs": []
    },
    {
      "cell_type": "code",
      "source": [
        "!pip install siml\n"
      ],
      "metadata": {
        "colab": {
          "base_uri": "https://localhost:8080/"
        },
        "id": "paQtUxqFpG_I",
        "outputId": "a9da727a-2e13-47e6-f7e7-7b06bc3f52d9"
      },
      "execution_count": 2,
      "outputs": [
        {
          "output_type": "stream",
          "name": "stdout",
          "text": [
            "Looking in indexes: https://pypi.org/simple, https://us-python.pkg.dev/colab-wheels/public/simple/\n",
            "Collecting siml\n",
            "  Downloading siml-0.4.0.tar.gz (12 kB)\n",
            "Requirement already satisfied: numpy in /usr/local/lib/python3.7/dist-packages (from siml) (1.21.6)\n",
            "Requirement already satisfied: scikit-learn in /usr/local/lib/python3.7/dist-packages (from siml) (1.0.2)\n",
            "Requirement already satisfied: threadpoolctl>=2.0.0 in /usr/local/lib/python3.7/dist-packages (from scikit-learn->siml) (3.1.0)\n",
            "Requirement already satisfied: scipy>=1.1.0 in /usr/local/lib/python3.7/dist-packages (from scikit-learn->siml) (1.4.1)\n",
            "Requirement already satisfied: joblib>=0.11 in /usr/local/lib/python3.7/dist-packages (from scikit-learn->siml) (1.1.0)\n",
            "Building wheels for collected packages: siml\n",
            "  Building wheel for siml (setup.py) ... \u001b[?25l\u001b[?25hdone\n",
            "  Created wheel for siml: filename=siml-0.4.0-py3-none-any.whl size=13726 sha256=49e0f5c5ec184a6fd2725f9f6848d5772dca4d9c9f8f51351e6da904aeb22423\n",
            "  Stored in directory: /root/.cache/pip/wheels/78/4a/0b/6d7bfb04dad3de613c870498a7c0132aee2a863b5796a4c10c\n",
            "Successfully built siml\n",
            "Installing collected packages: siml\n",
            "Successfully installed siml-0.4.0\n"
          ]
        }
      ]
    },
    {
      "cell_type": "code",
      "execution_count": 83,
      "metadata": {
        "id": "1-mp1uSYEfxX"
      },
      "outputs": [],
      "source": [
        "#data structures\n",
        "import pandas as pd\n",
        "import pyarrow.parquet as pq\n",
        "import numpy as np\n",
        "\n",
        "\n",
        "#used for plotting\n",
        "import seaborn as sns\n",
        "import matplotlib.pyplot as plt\n",
        "import plotly.graph_objects as go\n",
        "\n",
        "#used for feature engineering(signal processing tools)\n",
        "from scipy.fftpack import fft\n",
        "from scipy.signal import welch\n",
        "from siml.sk_utils import *\n",
        "from siml.signal_analysis_utils import *\n",
        "\n",
        "from tqdm import tqdm\n",
        "import ast\n",
        "\n",
        "import warnings\n",
        "warnings.filterwarnings('ignore')"
      ]
    },
    {
      "cell_type": "code",
      "execution_count": 84,
      "metadata": {
        "id": "gB8dgtxLFPCr"
      },
      "outputs": [],
      "source": [
        "#data structures\n",
        "import pandas as pd\n",
        "import numpy as np\n",
        "\n",
        "from keras.layers import *\n",
        "from keras.models import *\n",
        "from keras import backend as K # The backend gives us access to tensorflow operations and allow us to create attention class\n",
        "from keras import optimizers # Allows to access Adam class and modify some parameters\n",
        "from keras.callbacks import * # This object helps the model to train in a smarter way, avoid overfitting\n",
        "from keras import activations\n",
        "from keras import regularizers\n",
        "from keras import initializers\n",
        "from keras import constraints\n",
        "from tensorflow.keras.layers import Attention,LSTM,GRU\n",
        "from keras.utils.vis_utils import plot_model\n",
        "import tensorflow.compat.v1 as tf\n",
        "\n",
        "# https://stackoverflow.com/a/56569206/4699076\n",
        "tf.disable_eager_execution()\n",
        "\n",
        "from sklearn.model_selection import GridSearchCV, StratifiedKFold\n",
        "from sklearn.model_selection import train_test_split\n",
        "\n",
        "\n",
        "import concurrent.futures\n",
        "import multiprocessing"
      ]
    },
    {
      "cell_type": "code",
      "execution_count": 85,
      "metadata": {
        "id": "sOiM9weEvF6L"
      },
      "outputs": [],
      "source": [
        "# Matthews correlation coefficient calculation used inside Keras model\n",
        "def matthews_correlation(y_true, y_pred):\n",
        "  \"\"\"\n",
        "  Calculate Matthews Correlation Coefficient.\n",
        "\n",
        "  References\n",
        "  ----------\n",
        "  .. [1] https://en.wikipedia.org/wiki/Matthews_correlation_coefficient\n",
        "  .. [2] https://www.kaggle.com/tarunpaparaju/vsb-competition-attention-bilstm-with-features/notebook?scriptVersionId=10690570\n",
        "  \"\"\"\n",
        "  y_pred_positive = K.round(K.clip(y_pred, 0, 1))\n",
        "  y_pred_negative = 1 - y_pred_positive \n",
        "\n",
        "  y_positive = K.round(K.clip(y_true, 0, 1))\n",
        "  y_negative= 1 - y_positive\n",
        "\n",
        "  tp = K.sum(y_positive * y_pred_positive)\n",
        "  tn = K.sum(y_negative * y_pred_negative)\n",
        "\n",
        "  fp = K.sum(y_negative * y_pred_positive)\n",
        "  fn = K.sum(y_positive * y_pred_negative)\n",
        "\n",
        "  numerator = (tp * tn - fp * fn)\n",
        "  denominator = K.sqrt((tp + fp) * (tp + fn) * (tn + fp) * (tn + fn))\n",
        "\n",
        "  return numerator / (denominator + K.epsilon())"
      ]
    },
    {
      "cell_type": "code",
      "source": [
        "from sklearn.metrics import confusion_matrix\n",
        "def custom_confusion_matrix(y_test,y_test_pred):\n",
        "    \n",
        "    con_mat_test=confusion_matrix(y_test,y_test_pred)\n",
        "    print(con_mat_test)\n",
        "    con_mat_test_df = pd.DataFrame(con_mat_test, range(2),range(2))\n",
        "\n",
        "\n",
        "    symbol=np.asarray(['TN','FP','FN','TP',]).reshape(2,2)\n",
        "    symbol_df=pd.DataFrame(symbol)\n",
        "\n",
        "    labels=(np.asarray([\"{0} = {1}\".format(symb,value)\n",
        "                   for symb,value in zip(symbol.flatten(),\n",
        "                                        con_mat_test.flatten())])).reshape(2,2)\n",
        "\n",
        "\n",
        "    sns.heatmap(con_mat_test_df, annot=labels,annot_kws={\"size\": 16}, fmt='')\n",
        "    ax= plt.subplot();\n",
        "\n",
        "\n",
        "\n",
        "    ax.set_ylim(2.0, 0)\n",
        "    ax.set_title('Confusion Matrix on Test data');\n",
        "    ax.xaxis.set_ticklabels(['Predicted : 0','Predicted : 1']); \n",
        "    ax.yaxis.set_ticklabels(['Actual : 0','Actual : 1']);"
      ],
      "metadata": {
        "id": "h6qTkl3p-jCd"
      },
      "execution_count": 86,
      "outputs": []
    },
    {
      "cell_type": "code",
      "execution_count": 87,
      "metadata": {
        "id": "cUsVWJjSwaNg"
      },
      "outputs": [],
      "source": [
        "max_num = 127\n",
        "min_num = -128"
      ]
    },
    {
      "cell_type": "code",
      "execution_count": 88,
      "metadata": {
        "id": "U2mZsROgweCs"
      },
      "outputs": [],
      "source": [
        "# This function standardize the data from (-128 to 127) to (-1 to 1)\n",
        "# Theoretically it helps in the NN Model training, but I didn't tested without it\n",
        "def standardize_data(signal, min_data, max_data, range_needed=(-1,1)):\n",
        "    if min_data < 0:\n",
        "        signal_std = (signal + abs(min_data)) / (max_data + abs(min_data))\n",
        "    else:\n",
        "        signal_std = (signal - min_data) / (max_data - min_data)\n",
        "    if range_needed[0] < 0:    \n",
        "        return signal_std * (range_needed[1] + abs(range_needed[0])) + range_needed[0]\n",
        "    else:\n",
        "        return signal_std * (range_needed[1] - range_needed[0]) + range_needed[0]"
      ]
    },
    {
      "cell_type": "code",
      "execution_count": 89,
      "metadata": {
        "id": "v6U_YV6Hwt-_"
      },
      "outputs": [],
      "source": [
        "# This is one of the most important peace of code of this Kernel\n",
        "# Any power line contain 3 phases of 800000 measurements, or 2.4 millions data \n",
        "# It would be praticaly impossible to build a NN with an input of that size\n",
        "# The ideia here is to reduce it each phase to a matrix of <n_dim> bins by n features\n",
        "# Each bean is a set of 5000 measurements (800000 / 160), so the features are extracted from this 5000 chunk data.\n",
        "def transform_signal(signal, n_dim=160, min_max=(-1,1)):\n",
        "    # convert data into -1 to 1\n",
        "    signal_std = standardize_data(signal, min_data=min_num, max_data=max_num)\n",
        "    # bucket or chunk size, 5000 in this case (800000 / 160)\n",
        "    bucket_size = int(800000  / n_dim)\n",
        "    # new_ts will be the container of the new data\n",
        "    new_signal = []\n",
        "    # this for iteract any chunk/bucket until reach the whole sample_size (800000)\n",
        "    for i in range(0, 800000 , bucket_size):\n",
        "        # cut each bucket to ts_range\n",
        "        signal_range = signal_std[i:i + bucket_size]\n",
        "        # calculate each feature\n",
        "        mean = signal_range.mean()\n",
        "        std = signal_range.std() # standard deviation\n",
        "        std_top = mean + std # I have to test it more, but is is like a band\n",
        "        std_bot = mean - std\n",
        "        # I think that the percentiles are very important, it is like a distribuiton analysis from eath chunk\n",
        "        percentil_calc = np.percentile(signal_range, [0, 1, 25, 50, 75, 99, 100]) \n",
        "        max_range = percentil_calc[-1] - percentil_calc[0] # this is the amplitude of the chunk\n",
        "        relative_percentile = percentil_calc - mean # maybe it could heap to understand the asymmetry\n",
        "        # now, we just add all the features to new_ts and convert it to np.array\n",
        "        new_signal.append(np.concatenate([np.asarray([mean, std, std_top, std_bot, max_range]),percentil_calc, relative_percentile]))\n",
        "    return np.asarray(new_signal)"
      ]
    },
    {
      "cell_type": "code",
      "execution_count": 90,
      "metadata": {
        "id": "2wHAIwnu5KXh"
      },
      "outputs": [],
      "source": [
        "# https://www.kaggle.com/suicaokhoailang/lstm-attention-baseline-0-652-lb\n",
        "\n",
        "class Attention(Layer):\n",
        "    def __init__(self, step_dim,kernel_initializer=None,\n",
        "                 kernel_regularizer=None, bias_regularizer=None,\n",
        "                 kernel_constraint=None, bias_constraint=None,\n",
        "                 use_bias=True, **kwargs):\n",
        "        \n",
        "        self.kernel_initializer = initializers.get('glorot_uniform')\n",
        "        self.kernel_regularizer = regularizers.get(kernel_regularizer)\n",
        "        self.bias_regularizer = regularizers.get(bias_regularizer)\n",
        "\n",
        "        self.kernel_constraint = constraints.get(kernel_constraint)\n",
        "        self.bias_constraint= constraints.get(bias_constraint)\n",
        "\n",
        "        self.use_bias = use_bias\n",
        "        self.step_dim = step_dim\n",
        "        self.features_dim = 0\n",
        "        super(Attention, self).__init__(**kwargs)\n",
        "    \n",
        "    def get_config(self):\n",
        "        config = super().get_config()\n",
        "        config['kernel_initializer']=self.kernel_initializer\n",
        "        config[\"kernel_regularizer\"]=self.kernel_regularizer\n",
        "        config[\"bias_regularizer\"]=self.bias_regularizer\n",
        "        config[\"kernel_constraint\"]=self.kernel_constraint\n",
        "\n",
        "        config[\"bias_constraint\"]=self.bias_constraint \n",
        "        config[\"use_bias\"]=self.use_bias\n",
        "        config[\"step_dim\"]=self.step_dim \n",
        "        config[\"features_dim \"]=self.features_dim\n",
        "        \n",
        "        return config\n",
        "\n",
        "    def build(self, input_shape):\n",
        "        assert len(input_shape) == 3\n",
        "\n",
        "        self.kernel = self.add_weight(shape=(input_shape[-1],),\n",
        "                                 name='{}_kernel'.format(self.name),\n",
        "                                 regularizer=self.kernel_regularizer,\n",
        "                                 constraint=self.kernel_constraint)\n",
        "        self.features_dim = input_shape[-1]\n",
        "\n",
        "        if self.use_bias:\n",
        "            self.bias = self.add_weight(shape=(input_shape[1],),\n",
        "                                     initializer='zero',\n",
        "                                     name='{}_bias'.format(self.name),\n",
        "                                     regularizer=self.bias_regularizer,\n",
        "                                     constraint=self.bias_constraint)\n",
        "        else:\n",
        "            self.bias = None\n",
        "\n",
        "        self.built = True\n",
        "\n",
        "\n",
        "    def call(self, x, mask=None):\n",
        "        features_dim = self.features_dim\n",
        "        step_dim = self.step_dim\n",
        "\n",
        "        eij = K.reshape(K.dot(K.reshape(x, (-1, features_dim)),\n",
        "                        K.reshape(self.kernel, (features_dim, 1))), (-1, step_dim))\n",
        "\n",
        "        if self.use_bias:\n",
        "            eij += self.bias\n",
        "\n",
        "        eij = K.tanh(eij)\n",
        "\n",
        "        a = K.exp(eij)\n",
        "\n",
        "        if mask is not None:\n",
        "            a *= K.cast(mask, K.floatx())\n",
        "\n",
        "        a /= K.cast(K.sum(a, axis=1, keepdims=True) + K.epsilon(), K.floatx())\n",
        "\n",
        "        a = K.expand_dims(a)\n",
        "        weighted_input = x * a\n",
        "        return K.sum(weighted_input, axis=1)\n",
        "\n",
        "    def compute_output_shape(self, input_shape):\n",
        "        return input_shape[0],  self.features_dim\n",
        "\n"
      ]
    },
    {
      "cell_type": "code",
      "execution_count": 116,
      "metadata": {
        "id": "aYt_UP7y1G2C"
      },
      "outputs": [],
      "source": [
        "import keras\n",
        "from keras.models import load_model\n",
        "\n",
        "from keras.initializers import glorot_uniform"
      ]
    },
    {
      "cell_type": "code",
      "source": [
        "meta_data=pd.read_csv(\"df_metadata_sample.csv\")"
      ],
      "metadata": {
        "id": "aSPn3O9gA5zu"
      },
      "execution_count": 117,
      "outputs": []
    },
    {
      "cell_type": "code",
      "source": [
        "signal_data=pq.read_pandas('sample_signal_data.parquet',columns=[str(i) for i in range(3)]).to_pandas()"
      ],
      "metadata": {
        "id": "RYVHYU9BBBZH"
      },
      "execution_count": 118,
      "outputs": []
    },
    {
      "cell_type": "code",
      "execution_count": 119,
      "metadata": {
        "id": "E9M_xkDOmi1E"
      },
      "outputs": [],
      "source": [
        "def data_processing(meta_data,signal_data):\n",
        "    meta_data=pd.read_csv(\"df_metadata_sample.csv\")\n",
        "    first_sig = meta_data.index[0]\n",
        "    n_parts = 3\n",
        "    max_line = len(meta_data)\n",
        "    part_size = int(max_line / n_parts)\n",
        "    start_end = [[x, x+part_size] for x in range(first_sig, max_line + first_sig, part_size)]\n",
        "    start_end = start_end[:-1] + [[start_end[-1][0], start_end[-1][0]+3]]\n",
        "\n",
        "    X_test = []\n",
        "\n",
        "    for start, end in start_end:\n",
        "        signal_data = pq.read_pandas('sample_signal_data.parquet', columns=[str(i) for i in range(start, end)]).to_pandas()\n",
        "        for i in tqdm(signal_data.columns):\n",
        "            id_measurement, phase = meta_data.loc[int(i)]\n",
        "            subset_test_col = signal_data[i]\n",
        "            subset_trans = transform_signal(subset_test_col)\n",
        "            X_test.append([i, id_measurement, phase, subset_trans])\n",
        "            \n",
        "    x_test=np.asarray([np.concatenate([X_test[i][3],X_test[i+1][3], X_test[i+2][3]], axis=1) for i in range(0,len(X_test), 3)])\n",
        "    return x_test"
      ]
    },
    {
      "cell_type": "code",
      "execution_count": 120,
      "metadata": {
        "id": "Xmgd3m_3mi1E"
      },
      "outputs": [],
      "source": [
        "def final_fun_1(signal_data,meta_data,step_dim):\n",
        "    '''\n",
        "    returns the prediction for raw input\n",
        "    '''\n",
        "    X_test=[]\n",
        "    for i in tqdm(signal_data.columns):\n",
        "        id_measurement, phase = meta_data.loc[int(i)]\n",
        "        subset_test_col = signal_data[i]\n",
        "        subset_trans = transform_signal(subset_test_col)\n",
        "        X_test.append([i, id_measurement, phase, subset_trans])\n",
        "            \n",
        "    x_test=np.asarray([np.concatenate([X_test[i][3],X_test[i+1][3], X_test[i+2][3]], axis=1) for i in range(0,len(X_test), 3)])\n",
        "    \n",
        "    clf = load_model('model.h5',\n",
        "                     custom_objects={'Attention': Attention(step_dim),\n",
        "                                     'GlorotUniform':glorot_uniform\n",
        "                                     ,'LSTMCell':LSTMCell,\n",
        "                                     'matthews_correlation':matthews_correlation})\n",
        "    pred = clf.predict(x_test)\n",
        "    \n",
        "    if pred>0.5:\n",
        "        y_pred=1\n",
        "    else:\n",
        "        y_pred=0\n",
        "    \n",
        "    return y_pred"
      ]
    },
    {
      "cell_type": "code",
      "execution_count": 122,
      "metadata": {
        "colab": {
          "base_uri": "https://localhost:8080/"
        },
        "id": "KQ1fFTwGmi1F",
        "outputId": "1580d5a3-3e38-4e4d-8061-be9561e197d7"
      },
      "outputs": [
        {
          "output_type": "stream",
          "name": "stderr",
          "text": [
            "100%|██████████| 3/3 [00:00<00:00,  6.37it/s]"
          ]
        },
        {
          "output_type": "stream",
          "name": "stdout",
          "text": [
            "WARNING:tensorflow:Layer lstm will not use cuDNN kernels since it doesn't meet the criteria. It will use a generic GPU kernel as fallback when running on GPU.\n",
            "WARNING:tensorflow:Layer lstm will not use cuDNN kernels since it doesn't meet the criteria. It will use a generic GPU kernel as fallback when running on GPU.\n",
            "WARNING:tensorflow:Layer lstm will not use cuDNN kernels since it doesn't meet the criteria. It will use a generic GPU kernel as fallback when running on GPU.\n"
          ]
        },
        {
          "output_type": "stream",
          "name": "stderr",
          "text": [
            "\n"
          ]
        },
        {
          "output_type": "stream",
          "name": "stdout",
          "text": [
            "WARNING:tensorflow:Layer lstm_1 will not use cuDNN kernels since it doesn't meet the criteria. It will use a generic GPU kernel as fallback when running on GPU.\n",
            "WARNING:tensorflow:Layer lstm_1 will not use cuDNN kernels since it doesn't meet the criteria. It will use a generic GPU kernel as fallback when running on GPU.\n",
            "WARNING:tensorflow:Layer lstm_1 will not use cuDNN kernels since it doesn't meet the criteria. It will use a generic GPU kernel as fallback when running on GPU.\n",
            "predicted class is: 0\n"
          ]
        }
      ],
      "source": [
        "step_dim=160\n",
        "y_pred=print(\"predicted class is:\",final_fun_1(signal_data,meta_data,step_dim))"
      ]
    },
    {
      "cell_type": "code",
      "source": [
        "meta_data=pd.read_csv(\"/content/metadata_train.csv\")\n",
        "\n"
      ],
      "metadata": {
        "id": "zB0k-caJu9Pf"
      },
      "execution_count": 92,
      "outputs": []
    },
    {
      "cell_type": "code",
      "source": [
        "def final_fun_2(meta_data,step_dim):\n",
        "    '''\n",
        "    returns the matthews correlation score for raw input\n",
        "    '''\n",
        "\n",
        "    meta_data=pd.read_csv(\"/content/metadata_train.csv\")\n",
        "    meta_data=meta_data.set_index(['id_measurement', 'phase'])\n",
        "    y = []\n",
        "    for id_measurement in tqdm(meta_data.index.levels[0].unique()[0:int(len(meta_data)/3)]):\n",
        "        X_signal = []\n",
        "        for phase in [0,1,2]:\n",
        "            signal_id, target = meta_data.loc[id_measurement].loc[phase]\n",
        "            if phase == 0:\n",
        "                y.append(target)\n",
        "    y=np.asarray(y)\n",
        "    meta_data=meta_data.drop(['target'], axis = 1)\n",
        "    meta_data=meta_data.reset_index()\n",
        "    meta_data = meta_data.set_index(['signal_id'])\n",
        "\n",
        "    first_sig = meta_data.index[0]\n",
        "    n_parts = 10\n",
        "    max_line = len(meta_data)\n",
        "    part_size = int(max_line / n_parts)\n",
        "    last_part = max_line % n_parts\n",
        "    start_end = [[x, x+part_size] for x in range(first_sig, max_line + first_sig, part_size)]\n",
        "    start_end = start_end[:-1] + [[start_end[-1][0], start_end[-1][0] + last_part]]\n",
        "\n",
        "    X_test = []\n",
        "\n",
        "    for start, end in start_end:\n",
        "        signal_data = pq.read_pandas('/content/train.parquet', columns=[str(i) for i in range(start, end)]).to_pandas()\n",
        "        for i in tqdm(signal_data.columns):\n",
        "            id_measurement, phase = meta_data.loc[int(i)]\n",
        "            subset_test_col = signal_data[i]\n",
        "            subset_trans = transform_signal(subset_test_col)\n",
        "            X_test.append([i, id_measurement, phase, subset_trans])\n",
        "            \n",
        "    X=np.asarray([np.concatenate([X_test[i][3],X_test[i+1][3], X_test[i+2][3]], axis=1) for i in range(0,len(X_test), 3)])\n",
        "    X_train, X_test, y_train, y_test = train_test_split(X,y, test_size=0.3, stratify=y,random_state=42)\n",
        "    clf = load_model('model.h5',\n",
        "                     custom_objects={'Attention': Attention(step_dim),\n",
        "                                     'GlorotUniform':glorot_uniform\n",
        "                                     ,'LSTMCell':LSTMCell,\n",
        "                                     'matthews_correlation':matthews_correlation})\n",
        "    \n",
        "    pred = clf.predict(X_test)\n",
        "  \n",
        "    best_threshold = 0\n",
        "    best_score = 0\n",
        "    thresh_arr = np.linspace(0, 0.99, 100)\n",
        "\n",
        "    y_val = y_test\n",
        "\n",
        "    for thresh in thresh_arr:\n",
        "        y_pred = (pred > thresh).astype(np.int).flatten()\n",
        "        score = matthews_corrcoef(y_val,y_pred)\n",
        "        if score > best_score:\n",
        "            best_threshold = thresh\n",
        "            best_score = score\n",
        "\n",
        "\n",
        "    y_pred = (pred > best_threshold).astype(np.int).flatten()\n",
        "    return best_score,custom_confusion_matrix(y_test,y_pred)\n",
        "  "
      ],
      "metadata": {
        "id": "HJIpJeIA2jb9"
      },
      "execution_count": 114,
      "outputs": []
    },
    {
      "cell_type": "code",
      "execution_count": 115,
      "metadata": {
        "colab": {
          "base_uri": "https://localhost:8080/",
          "height": 645
        },
        "id": "M5Ti66Wami1I",
        "outputId": "9e4385bc-31b8-4951-f64f-84e877fa0f2c"
      },
      "outputs": [
        {
          "output_type": "stream",
          "name": "stderr",
          "text": [
            "100%|██████████| 2904/2904 [00:03<00:00, 945.74it/s]\n",
            "100%|██████████| 871/871 [01:03<00:00, 13.82it/s]\n",
            "100%|██████████| 871/871 [01:01<00:00, 14.12it/s]\n",
            "100%|██████████| 871/871 [01:01<00:00, 14.09it/s]\n",
            "100%|██████████| 871/871 [01:02<00:00, 14.01it/s]\n",
            "100%|██████████| 871/871 [01:01<00:00, 14.11it/s]\n",
            "100%|██████████| 871/871 [01:02<00:00, 14.03it/s]\n",
            "100%|██████████| 871/871 [01:02<00:00, 13.95it/s]\n",
            "100%|██████████| 871/871 [01:02<00:00, 13.89it/s]\n",
            "100%|██████████| 871/871 [01:01<00:00, 14.05it/s]\n",
            "100%|██████████| 871/871 [01:02<00:00, 13.90it/s]\n",
            "100%|██████████| 2/2 [00:00<00:00, 12.59it/s]\n"
          ]
        },
        {
          "output_type": "stream",
          "name": "stdout",
          "text": [
            "WARNING:tensorflow:Layer lstm will not use cuDNN kernels since it doesn't meet the criteria. It will use a generic GPU kernel as fallback when running on GPU.\n",
            "WARNING:tensorflow:Layer lstm will not use cuDNN kernels since it doesn't meet the criteria. It will use a generic GPU kernel as fallback when running on GPU.\n",
            "WARNING:tensorflow:Layer lstm will not use cuDNN kernels since it doesn't meet the criteria. It will use a generic GPU kernel as fallback when running on GPU.\n",
            "WARNING:tensorflow:Layer lstm_1 will not use cuDNN kernels since it doesn't meet the criteria. It will use a generic GPU kernel as fallback when running on GPU.\n",
            "WARNING:tensorflow:Layer lstm_1 will not use cuDNN kernels since it doesn't meet the criteria. It will use a generic GPU kernel as fallback when running on GPU.\n",
            "WARNING:tensorflow:Layer lstm_1 will not use cuDNN kernels since it doesn't meet the criteria. It will use a generic GPU kernel as fallback when running on GPU.\n",
            "[[790  29]\n",
            " [ 10  43]]\n",
            "matthews correlation score on test data (0.6735672384862607, None)\n"
          ]
        },
        {
          "output_type": "display_data",
          "data": {
            "text/plain": [
              "<Figure size 432x288 with 2 Axes>"
            ],
            "image/png": "[encoded data removed]"
          },
          "metadata": {
            "needs_background": "light"
          }
        }
      ],
      "source": [
        "step_dim=160\n",
        "matthews_correlation_score=print(\"matthews correlation score on test data\",final_fun_2(meta_data,step_dim))"
      ]
    },
    {
      "cell_type": "code",
      "execution_count": null,
      "metadata": {
        "id": "nz_TwKcoigP4"
      },
      "outputs": [],
      "source": [
        ""
      ]
    }
  ],
  "metadata": {
    "accelerator": "GPU",
    "colab": {
      "collapsed_sections": [],
      "name": "vsb_model.ipynb",
      "provenance": []
    },
    "kernelspec": {
      "display_name": "Python 3",
      "language": "python",
      "name": "python3"
    },
    "language_info": {
      "codemirror_mode": {
        "name": "ipython",
        "version": 3
      },
      "file_extension": ".py",
      "mimetype": "text/x-python",
      "name": "python",
      "nbconvert_exporter": "python",
      "pygments_lexer": "ipython3",
      "version": "3.7.1"
    }
  },
  "nbformat": 4,
  "nbformat_minor": 0
}